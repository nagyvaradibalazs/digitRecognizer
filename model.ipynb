{
  "nbformat": 4,
  "nbformat_minor": 0,
  "metadata": {
    "colab": {
      "name": "model.ipynb",
      "provenance": [],
      "collapsed_sections": []
    },
    "kernelspec": {
      "name": "python3",
      "display_name": "Python 3"
    }
  },
  "cells": [
    {
      "cell_type": "code",
      "metadata": {
        "id": "tHREOmJvQ-56"
      },
      "source": [
        "#Google Colab session for training the model\n",
        "\n",
        "#manually install tensorflowjs\n",
        "!pip install tensorflowjs\n",
        "\n",
        "#import libraries\n",
        "import numpy as np\n",
        "import tensorflow as tf\n",
        "import tensorflowjs as tfjs\n",
        "from tensorflow import keras\n"
      ],
      "execution_count": null,
      "outputs": []
    },
    {
      "cell_type": "code",
      "metadata": {
        "id": "1xPhA2o8eHLp"
      },
      "source": [
        "#import data from MNIST\n",
        "(data_train, label_train), (data_test, label_test) = keras.datasets.mnist.load_data()\n",
        "\n",
        "#preprocessing train and test data (images)\n",
        "data_train = data_train.reshape([60000, 28, 28, 1])\n",
        "data_train = data_train / 255.0\n",
        "\n",
        "data_test = data_test.reshape([10000, 28, 28, 1])\n",
        "data_test = data_test / 255.0\n",
        "\n",
        "#convert labels to categorical\n",
        "label_train = keras.utils.to_categorical(label_train)\n",
        "label_test = keras.utils.to_categorical(label_test)\n"
      ],
      "execution_count": 10,
      "outputs": []
    },
    {
      "cell_type": "code",
      "metadata": {
        "id": "oN22xadigwCM"
      },
      "source": [
        "#define the model\n",
        "model = keras.Sequential([\n",
        "  keras.layers.Flatten(input_shape=(28, 28)),     #layer 0 (input)\n",
        "  keras.layers.Dense(512, activation='relu'),     #layer 1 (hidden)\n",
        "  keras.layers.Dense(64, activation='relu'),      #layer 2 (hidden)\n",
        "  keras.layers.Dense(10, activation='softmax')    #layer 3 (output)\n",
        "])\n",
        "\n",
        "#define compile methods\n",
        "model.compile(optimizer='adam', loss='categorical_crossentropy', metrics=['accuracy'])"
      ],
      "execution_count": 11,
      "outputs": []
    },
    {
      "cell_type": "code",
      "metadata": {
        "id": "AdKrCkdviYNb"
      },
      "source": [
        "#training the model\n",
        "model.fit(data_train, label_train, epochs=4)\n",
        "\n",
        "#testing the model\n",
        "loss, acc = model.evaluate(data_test, label_test)\n",
        "print('Accuracy: ', acc)"
      ],
      "execution_count": null,
      "outputs": []
    },
    {
      "cell_type": "code",
      "metadata": {
        "id": "iY9tdZPHjdUh"
      },
      "source": [
        "#finally saving the model so that it can be opened using JS\n",
        "tfjs.converters.save_keras_model(model, 'model')"
      ],
      "execution_count": null,
      "outputs": []
    }
  ]
}