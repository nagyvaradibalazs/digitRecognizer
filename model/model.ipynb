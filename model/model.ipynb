{
  "nbformat": 4,
  "nbformat_minor": 0,
  "metadata": {
    "colab": {
      "name": "model.ipynb",
      "provenance": [],
      "collapsed_sections": []
    },
    "kernelspec": {
      "name": "python3",
      "display_name": "Python 3"
    },
    "accelerator": "GPU"
  },
  "cells": [
    {
      "cell_type": "code",
      "metadata": {
        "id": "tHREOmJvQ-56"
      },
      "source": [
        "#Google Colab session for training the model\n",
        "\n",
        "#manually install tensorflowjs\n",
        "!pip install tensorflowjs\n",
        "\n",
        "#import libraries\n",
        "import numpy as np\n",
        "import tensorflow as tf\n",
        "import tensorflowjs as tfjs\n",
        "from tensorflow import keras\n"
      ],
      "execution_count": null,
      "outputs": []
    },
    {
      "cell_type": "code",
      "metadata": {
        "id": "1xPhA2o8eHLp"
      },
      "source": [
        "#import data from MNIST\n",
        "(data_train, label_train), (data_test, label_test) = keras.datasets.mnist.load_data()\n",
        "\n",
        "#preprocessing train and test data (images)\n",
        "data_train = data_train.reshape([60000, 28, 28, 1])\n",
        "data_train = data_train / 255.0\n",
        "\n",
        "data_test = data_test.reshape([10000, 28, 28, 1])\n",
        "data_test = data_test / 255.0\n",
        "\n",
        "#convert labels to categorical\n",
        "label_train = keras.utils.to_categorical(label_train)\n",
        "label_test = keras.utils.to_categorical(label_test)\n"
      ],
      "execution_count": null,
      "outputs": []
    },
    {
      "cell_type": "code",
      "metadata": {
        "id": "oN22xadigwCM"
      },
      "source": [
        "#define the model\n",
        "model = keras.Sequential([\n",
        "  keras.layers.Conv2D(64, 4, activation='relu'),\n",
        "  keras.layers.MaxPool2D(2, 2),\n",
        "  keras.layers.Dropout(0.25),\n",
        "  keras.layers.Flatten(input_shape=(28, 28)),  \n",
        "  keras.layers.Dense(512, activation='relu'),\n",
        "  keras.layers.Dense(64, activation='relu'),\n",
        "  keras.layers.Dense(10, activation='softmax')\n",
        "])\n",
        "\n",
        "#define compile methods\n",
        "model.compile(optimizer='adam', loss='categorical_crossentropy', metrics=['accuracy'])"
      ],
      "execution_count": 4,
      "outputs": []
    },
    {
      "cell_type": "code",
      "metadata": {
        "id": "AdKrCkdviYNb",
        "colab": {
          "base_uri": "https://localhost:8080/"
        },
        "outputId": "751b7fd9-8539-45ac-c280-f62ad7ca7b92"
      },
      "source": [
        "#training the model\n",
        "model.fit(data_train, label_train, epochs=6, batch_size=64)\n",
        "\n",
        "#testing the model\n",
        "loss, acc = model.evaluate(data_test, label_test)\n",
        "print('Accuracy: ', acc)"
      ],
      "execution_count": 6,
      "outputs": [
        {
          "output_type": "stream",
          "text": [
            "Epoch 1/6\n",
            "938/938 [==============================] - 4s 4ms/step - loss: 0.0085 - accuracy: 0.9972\n",
            "Epoch 2/6\n",
            "938/938 [==============================] - 4s 4ms/step - loss: 0.0072 - accuracy: 0.9978\n",
            "Epoch 3/6\n",
            "938/938 [==============================] - 4s 4ms/step - loss: 0.0057 - accuracy: 0.9983\n",
            "Epoch 4/6\n",
            "938/938 [==============================] - 4s 4ms/step - loss: 0.0080 - accuracy: 0.9976\n",
            "Epoch 5/6\n",
            "938/938 [==============================] - 4s 4ms/step - loss: 0.0063 - accuracy: 0.9980\n",
            "Epoch 6/6\n",
            "938/938 [==============================] - 4s 4ms/step - loss: 0.0052 - accuracy: 0.9985\n",
            "313/313 [==============================] - 1s 2ms/step - loss: 0.0579 - accuracy: 0.9865\n",
            "Accuracy:  0.9865000247955322\n"
          ],
          "name": "stdout"
        }
      ]
    },
    {
      "cell_type": "code",
      "metadata": {
        "id": "iY9tdZPHjdUh",
        "colab": {
          "base_uri": "https://localhost:8080/"
        },
        "outputId": "34739604-597d-4998-c79f-6caeb106263a"
      },
      "source": [
        "#finally saving the model so that it can be opened using JS\n",
        "tfjs.converters.save_keras_model(model, 'model')"
      ],
      "execution_count": 7,
      "outputs": [
        {
          "output_type": "stream",
          "text": [
            "/usr/local/lib/python3.6/dist-packages/tensorflowjs/converters/keras_h5_conversion.py:123: H5pyDeprecationWarning: The default file mode will change to 'r' (read-only) in h5py 3.0. To suppress this warning, pass the mode you need to h5py.File(), or set the global default h5.get_config().default_file_mode, or set the environment variable H5PY_DEFAULT_READONLY=1. Available modes are: 'r', 'r+', 'w', 'w-'/'x', 'a'. See the docs for details.\n",
            "  return h5py.File(h5file)\n"
          ],
          "name": "stderr"
        }
      ]
    }
  ]
}