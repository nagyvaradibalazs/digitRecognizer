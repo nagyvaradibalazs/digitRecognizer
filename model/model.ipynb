{
  "nbformat": 4,
  "nbformat_minor": 0,
  "metadata": {
    "colab": {
      "name": "model.ipynb",
      "provenance": [],
      "collapsed_sections": []
    },
    "kernelspec": {
      "name": "python3",
      "display_name": "Python 3"
    },
    "accelerator": "GPU"
  },
  "cells": [
    {
      "cell_type": "code",
      "metadata": {
        "id": "tHREOmJvQ-56"
      },
      "source": [
        "#Google Colab session for training the model\n",
        "\n",
        "#manually install tensorflowjs\n",
        "!pip install tensorflowjs\n",
        "\n",
        "#import libraries\n",
        "import numpy as np\n",
        "import tensorflow as tf\n",
        "import tensorflowjs as tfjs\n",
        "from tensorflow import keras\n"
      ],
      "execution_count": null,
      "outputs": []
    },
    {
      "cell_type": "code",
      "metadata": {
        "id": "1xPhA2o8eHLp"
      },
      "source": [
        "#import data from MNIST\n",
        "(data_train, label_train), (data_test, label_test) = keras.datasets.mnist.load_data()\n",
        "\n",
        "#preprocessing train and test data (images)\n",
        "data_train = data_train.reshape([60000, 28, 28, 1])\n",
        "data_train = data_train / 255.0\n",
        "\n",
        "data_test = data_test.reshape([10000, 28, 28, 1])\n",
        "data_test = data_test / 255.0\n",
        "\n",
        "#convert labels to categorical\n",
        "label_train = keras.utils.to_categorical(label_train)\n",
        "label_test = keras.utils.to_categorical(label_test)\n"
      ],
      "execution_count": null,
      "outputs": []
    },
    {
      "cell_type": "code",
      "metadata": {
        "id": "oN22xadigwCM"
      },
      "source": [
        "#define the model\n",
        "model = keras.Sequential([\n",
        "  keras.layers.Conv2D(64, 4, activation='relu'),\n",
        "  keras.layers.MaxPool2D(2, 2),\n",
        "  keras.layers.Dropout(0.25),\n",
        "  keras.layers.Flatten(),  \n",
        "  keras.layers.Dense(512, activation='relu'),\n",
        "  keras.layers.Dense(64, activation='relu'),\n",
        "  keras.layers.Dense(10, activation='softmax')\n",
        "])\n",
        "\n",
        "#define compile methods\n",
        "model.compile(optimizer='adam', loss='categorical_crossentropy', metrics=['accuracy'])"
      ],
      "execution_count": null,
      "outputs": []
    },
    {
      "cell_type": "code",
      "metadata": {
        "id": "AdKrCkdviYNb",
        "colab": {
          "base_uri": "https://localhost:8080/"
        },
        "outputId": "658501ac-1aa9-4905-d55e-c4298256275c"
      },
      "source": [
        "#training the model\n",
        "model.fit(data_train, label_train, epochs=6, batch_size=64)\n",
        "\n",
        "#testing the model\n",
        "loss, acc = model.evaluate(data_test, label_test)\n",
        "print('Accuracy: ', acc)"
      ],
      "execution_count": null,
      "outputs": [
        {
          "output_type": "stream",
          "text": [
            "Epoch 1/6\n",
            "938/938 [==============================] - 4s 4ms/step - loss: 0.2922 - accuracy: 0.9086\n",
            "Epoch 2/6\n",
            "938/938 [==============================] - 4s 4ms/step - loss: 0.0473 - accuracy: 0.9858\n",
            "Epoch 3/6\n",
            "938/938 [==============================] - 4s 4ms/step - loss: 0.0279 - accuracy: 0.9913\n",
            "Epoch 4/6\n",
            "938/938 [==============================] - 4s 4ms/step - loss: 0.0212 - accuracy: 0.9930\n",
            "Epoch 5/6\n",
            "938/938 [==============================] - 4s 4ms/step - loss: 0.0148 - accuracy: 0.9953\n",
            "Epoch 6/6\n",
            "938/938 [==============================] - 4s 4ms/step - loss: 0.0141 - accuracy: 0.9954\n",
            "313/313 [==============================] - 1s 2ms/step - loss: 0.0517 - accuracy: 0.9849\n",
            "Accuracy:  0.9848999977111816\n"
          ],
          "name": "stdout"
        }
      ]
    },
    {
      "cell_type": "code",
      "metadata": {
        "id": "iY9tdZPHjdUh",
        "colab": {
          "base_uri": "https://localhost:8080/"
        },
        "outputId": "707ef376-3fd4-4071-9899-4101f8f312cd"
      },
      "source": [
        "#finally saving the model so that it can be opened using JS\n",
        "tfjs.converters.save_keras_model(model, 'model')"
      ],
      "execution_count": null,
      "outputs": [
        {
          "output_type": "stream",
          "text": [
            "/usr/local/lib/python3.6/dist-packages/tensorflowjs/converters/keras_h5_conversion.py:123: H5pyDeprecationWarning: The default file mode will change to 'r' (read-only) in h5py 3.0. To suppress this warning, pass the mode you need to h5py.File(), or set the global default h5.get_config().default_file_mode, or set the environment variable H5PY_DEFAULT_READONLY=1. Available modes are: 'r', 'r+', 'w', 'w-'/'x', 'a'. See the docs for details.\n",
            "  return h5py.File(h5file)\n"
          ],
          "name": "stderr"
        }
      ]
    }
  ]
}